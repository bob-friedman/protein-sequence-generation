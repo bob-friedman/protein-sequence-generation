{
 "cells": [
  {
   "cell_type": "code",
   "execution_count": null,
   "metadata": {},
   "outputs": [],
   "source": [
    "# Edit sequence_1, sequence_2, filename—the input data for prediction of 3d structure\n",
    "# The Colab runtime may report a crash from an expected restart during installation of a library\n",
    "\n",
    "# Comment out this line to enable verbose output\n",
    "# %%capture\n",
    "\n",
    "!pip install ImmuneBuilder \n",
    "!pip install -q condacolab\n",
    "!pip install py3Dmol # Added for visualization later"
   ]
  },
  {
   "cell_type": "code",
   "execution_count": null,
   "metadata": {},
   "outputs": [],
   "source": [
    "import condacolab\n",
    "import sys # import modules to access their functions\n",
    "condacolab.install_mambaforge() # use of mamba to install conda modules"
   ]
  },
  {
   "cell_type": "markdown",
   "metadata": {},
   "source": [
    "**Important:** If the output of the cell above requests you to restart the runtime, please do so now by clicking \"Runtime\" -> \"Restart runtime\" in the menu bar."
   ]
  },
  {
   "cell_type": "code",
   "execution_count": null,
   "metadata": {},
   "outputs": [],
   "source": [
    "# Comment out this line to enable verbose output\n",
    "# %%capture\n",
    "\n",
    "!mamba install -y openmm pdbfixer # install openmm (toolkit for molecular simulation; refine prediction) and pdbfixer\n",
    "!conda install -y -c bioconda anarci # install anarci module from bioconda distribution"
   ]
  },
  {
   "cell_type": "markdown",
   "metadata": {},
   "source": [
    "## Step 2: Define Sequences and Predict Structure"
   ]
  },
  {
   "cell_type": "code",
   "execution_count": null,
   "metadata": {},
   "outputs": [],
   "source": [
    "# Step 2: Run the model (adapted from Appendix C)\n",
    "\n",
    "# It's good practice to ensure ImmuneBuilder is installed before importing,\n",
    "# though the %%capture in the previous cells might hide late install messages.\n",
    "# Consider removing the !pip install from here if the first cell handles it reliably.\n",
    "# For now, keeping it as per Appendix C's structure.\n",
    "# %%capture\n",
    "!pip install -q ImmuneBuilder \n",
    "\n",
    "protein_type = \"TCR\" # Explicitly TCR for this notebook\n",
    "from anarci import number # github.com/oxpig/ANARCI; aligns sequence to canonical protein\n",
    "from ImmuneBuilder import TCRBuilder2 # prediction of 3d structure\n",
    "\n",
    "# Select model\n",
    "predictor = TCRBuilder2() # Using TCRBuilder2 as per Appendix C\n",
    "\n",
    "# Inspect that TCR sequences are annotated as TCR alpha and beta chains\n",
    "# Sequence data from www.rcsb.org/structure/5d2l (accessed on 10 March 2024)\n",
    "# As provided in Appendix C\n",
    "sequence_1 = 'MILNVEQSPQSLHVQEGDSTNFTCSFPSSNFYALHWYRWETAKSP''EALFVMTLNGDEKKKGRISATLNTKEGYSYLYIKGSQPEDSATYLCAFITGNQFYF''GTGTSLTVIPNIQNPDPAVYQLRDSKSSDKSVCLFTDFDSQTNVSQSKDSDVYITDK''CVLDMRSMDFKSNSAVAWSNKSDFACANAFNNSIIPEDTFFPSPESS'\n",
    "sequence_2 = 'MGAGVSQSPSNKVTEKGKDVELRCDPISGHTALYWYRQRLGQGLE''FLIYFQGNSAPDKSGLPSDRFSAERTGESVSTLTIQRTQQEDSAVYLCASSQTQLWET''QYFGPGTRLLVLEDLKNVFPPEVAVFEPSEAEISHTQKATLVCLATGFYPDHVELSW''WVNGKEVHSGVCTDPQPLKEQPALNDSRYALSSRLRVSATFWQNPRNHFRCQVQF''YGLSENDEWTQDRAKPVTQIVSAEAWGRAD'\n",
    "\n",
    "sequence_1 = \"\".join(sequence_1.split()) # Remove whitespace\n",
    "sequence_2 = \"\".join(sequence_2.split()) # Remove whitespace\n",
    "filename = 'tcr_structure_appendix_c.pdb' # Output file name\n",
    "\n",
    "# Anarci will reject the sequence if it is not an expected match to the immunoprotein\n",
    "# Ensure sys.path is set up if anarci was installed in a custom conda env\n",
    "# (The mamba install should handle this, but good to be mindful)\n",
    "import sys\n",
    "if f\"/usr/local/lib/python{sys.version_info.major}.{sys.version_info.minor}/site-packages/\" not in sys.path:\n",
    "    sys.path.insert(0, f\"/usr/local/lib/python{sys.version_info.major}.{sys.version_info.minor}/site-packages/\")\n",
    "\n",
    "print(\"Numbering chain 1 with ANARCI...\")\n",
    "numbered_chain1, chain1_type = number(sequence_1)\n",
    "if chain1_type:\n",
    "    print(f\"Chain 1 identified as: {chain1_type}\")\n",
    "else:\n",
    "    print(\"Chain 1 could not be typed by ANARCI or is not a valid TCR/Ig chain.\")\n",
    "\n",
    "print(\"\\nNumbering chain 2 with ANARCI...\")\n",
    "numbered_chain2, chain2_type = number(sequence_2)\n",
    "if chain2_type:\n",
    "    print(f\"Chain 2 identified as: {chain2_type}\")\n",
    "else:\n",
    "    print(\"Chain 2 could not be typed by ANARCI or is not a valid TCR/Ig chain.\")\n",
    "\n",
    "input_chains = dict() \n",
    "if chain1_type: # Use the type returned by ANARCI as the key\n",
    "    input_chains[chain1_type] = sequence_1 \n",
    "if chain2_type:\n",
    "    input_chains[chain2_type] = sequence_2\n",
    "\n",
    "if not input_chains:\n",
    "    print(\"\\nERROR: No valid TCR chains were identified by ANARCI. Cannot proceed with prediction.\")\n",
    "elif len(input_chains) < 2 and protein_type == \"TCR\": # TCRs usually need two chains\n",
    "    print(f\"\\nWARNING: Only {len(input_chains)} chain(s) identified for TCR prediction. Ensure both Alpha and Beta chains are provided and correctly typed by ANARCI.\")\n",
    "    # Potentially allow prediction if at least one chain is valid, though TCRBuilder2 might require both.\n",
    "    # For now, proceed if at least one chain is valid, user can debug if prediction fails.\n",
    "    if chain1_type and not chain2_type:\n",
    "      print(\"Proceeding with only chain 1.\")\n",
    "    elif not chain1_type and chain2_type:\n",
    "      print(\"Proceeding with only chain 2.\")\n",
    "\n",
    "\n",
    "if input_chains:\n",
    "    print(f\"\\nInput for predictor: {input_chains.keys()}\")\n",
    "    try:\n",
    "        predictor.predict(input_chains).save(filename)\n",
    "        print(f\"\\nPrediction complete. Structure saved to {filename}\")\n",
    "    except Exception as e:\n",
    "        print(f\"\\nERROR during prediction: {e}\")\n",
    "else:\n",
    "    print(\"\\nPrediction skipped due to ANARCI chain identification issues.\")"
   ]
  },
  {
   "cell_type": "markdown",
   "metadata": {},
   "source": [
    "## Step 3: Visualize Predicted Structure"
   ]
  },
  {
   "cell_type": "code",
   "execution_count": null,
   "metadata": {},
   "outputs": [],
   "source": [
    "# Step 3: Visualize the prediction\n",
    "\n",
    "import py3Dmol\n",
    "import os # To check if the file exists\n",
    "\n",
    "# Check if the PDB file was created\n",
    "if os.path.exists(filename):\n",
    "    print(f\"Visualizing PDB file: {filename}\")\n",
    "    # Setup the 3Dmol viewer\n",
    "    view = py3Dmol.view(width=600, height=400)\n",
    "    \n",
    "    # Add the PDB model\n",
    "    view.addModel(open(filename, 'r').read(), 'pdb')\n",
    "    \n",
    "    # Style the cartoon representation\n",
    "    # Color by chain: TCRs typically have alpha and beta chains.\n",
    "    # We can try to color them if ANARCI identified them, otherwise default.\n",
    "    # Assuming chain1_type and chain2_type are available from the previous cell.\n",
    "    # Default colors if types are not standard 'TRA', 'TRB', etc.\n",
    "    \n",
    "    view.setStyle({'cartoon': {'colorscheme': 'chainHetView'}}) # A general scheme\n",
    "    \n",
    "    # Specific coloring if TRA/TRB are identified (example)\n",
    "    # This part might need adjustment based on exact ANARCI outputs for chain types\n",
    "    # For now, 'chainHetView' is a good default.\n",
    "    # if 'TRA' in input_chains: # input_chains was defined in the prediction cell\n",
    "    #    view.setStyle({'chain':'A'}, {'cartoon': {'color':'blue'}}) # Adjust chain letter if needed\n",
    "    # if 'TRB' in input_chains:\n",
    "    #    view.setStyle({'chain':'B'}, {'cartoon': {'color':'green'}}) # Adjust chain letter if needed\n",
    "\n",
    "    view.setBackgroundColor('white')\n",
    "    view.zoomTo()\n",
    "    view.show()\n",
    "else:\n",
    "    print(f\"PDB file {filename} not found. Skipping visualization. Please check for errors in the prediction step.\")"
   ]
  },
  {
   "cell_type": "markdown",
   "metadata": {},
   "source": [
    "## Step 4: Download PDB File"
   ]
  },
  {
   "cell_type": "code",
   "execution_count": null,
   "metadata": {},
   "outputs": [],
   "source": [
    "# Step 4: Download the predicted structure\n",
    "\n",
    "from google.colab import files\n",
    "import os\n",
    "\n",
    "if os.path.exists(filename):\n",
    "    print(f\"Offering {filename} for download...\")\n",
    "    files.download(filename)\n",
    "else:\n",
    "    print(f\"PDB file {filename} not found. Skipping download.\")"
   ]
  }
 ],
 "metadata": {
  "kernelspec": {
   "display_name": "Python 3",
   "language": "python",
   "name": "python3"
  },
  "language_info": {
   "codemirror_mode": {
    "name": "ipython",
    "version": 3
   },
   "file_extension": ".py",
   "mimetype": "text/x-python",
   "name": "python",
   "nbconvert_exporter": "python",
   "pygments_lexer": "ipython3",
   "version": "3.10.12"
  }
 },
 "nbformat": 4,
 "nbformat_minor": 5
}
